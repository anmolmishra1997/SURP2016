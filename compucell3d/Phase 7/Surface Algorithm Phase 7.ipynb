{
 "cells": [
  {
   "cell_type": "code",
   "execution_count": 29,
   "metadata": {
    "collapsed": false
   },
   "outputs": [],
   "source": [
    "import csv\n",
    "f1 = open (\"C:\\Users\\Anmol Mishra\\CC3DWorkspace\\Phase 7\\Cell Size 125\\Circle R2\\Demo_CellSize125.cc3d-2016-08-13-06-16-58-275000\\data.csv\" , \"rb\")\n",
    "data = csv.reader(f1)"
   ]
  },
  {
   "cell_type": "code",
   "execution_count": 30,
   "metadata": {
    "collapsed": false
   },
   "outputs": [],
   "source": [
    "newdata = []\n",
    "for line in data:\n",
    "        newdata.append(line)"
   ]
  },
  {
   "cell_type": "code",
   "execution_count": 31,
   "metadata": {
    "collapsed": true
   },
   "outputs": [],
   "source": [
    "finalVolume = 0\n",
    "for i in range(len(newdata)):\n",
    "    if int(newdata[i][3])>finalVolume:\n",
    "        finalVolume = int(newdata[i][3])"
   ]
  },
  {
   "cell_type": "code",
   "execution_count": 32,
   "metadata": {
    "collapsed": false
   },
   "outputs": [],
   "source": [
    "tend = 0\n",
    "for i in range(len(newdata)):\n",
    "    if int(newdata[i][3])==finalVolume:\n",
    "        tend = int(newdata[i][0])\n",
    "        break"
   ]
  },
  {
   "cell_type": "code",
   "execution_count": 33,
   "metadata": {
    "collapsed": false
   },
   "outputs": [],
   "source": [
    "tend = 4000"
   ]
  },
  {
   "cell_type": "code",
   "execution_count": 34,
   "metadata": {
    "collapsed": false
   },
   "outputs": [],
   "source": [
    "datatend = []\n",
    "datatend100 = []\n",
    "datatend200 = []\n",
    "for i in newdata:\n",
    "    if int(i[0])==tend:\n",
    "        datatend.append(int(float(i[4])))\n",
    "    if int(i[0])==tend+100:\n",
    "        datatend100.append(int(float(i[4])))\n",
    "    if int(i[0])==tend+200:\n",
    "        datatend200.append(int(float(i[4])))\n",
    "    if int(i[0])> tend + 200:\n",
    "        break"
   ]
  },
  {
   "cell_type": "code",
   "execution_count": 35,
   "metadata": {
    "collapsed": false
   },
   "outputs": [],
   "source": [
    "%matplotlib inline\n",
    "from matplotlib import pyplot as plt"
   ]
  },
  {
   "cell_type": "code",
   "execution_count": 36,
   "metadata": {
    "collapsed": false
   },
   "outputs": [
    {
     "name": "stdout",
     "output_type": "stream",
     "text": [
      "[70 72 74 76 78 82]\n"
     ]
    }
   ],
   "source": [
    "import numpy as np\n",
    "x = np.array(datatend)\n",
    "unique, counts = np.unique(x, return_counts=True)\n",
    "print unique"
   ]
  },
  {
   "cell_type": "code",
   "execution_count": 37,
   "metadata": {
    "collapsed": false
   },
   "outputs": [
    {
     "data": {
      "text/plain": [
       "<matplotlib.text.Text at 0x161fd390>"
      ]
     },
     "execution_count": 37,
     "metadata": {},
     "output_type": "execute_result"
    },
    {
     "data": {
      "image/png": "[encoded data removed]",
      "text/plain": [
       "<matplotlib.figure.Figure at 0x160f9128>"
      ]
     },
     "metadata": {},
     "output_type": "display_data"
    }
   ],
   "source": [
    "plt.plot(unique, counts , 'r-')\n",
    "plt.title('Plot for tend ')\n",
    "plt.xlabel('Area of Cell')\n",
    "plt.ylabel('Number of Occurrences')"
   ]
  },
  {
   "cell_type": "code",
   "execution_count": 38,
   "metadata": {
    "collapsed": false
   },
   "outputs": [
    {
     "name": "stdout",
     "output_type": "stream",
     "text": [
      "[64 66 68 70 72 74 76 78 80]\n"
     ]
    }
   ],
   "source": [
    "x = np.array(datatend100)\n",
    "unique100, counts100 = np.unique(x, return_counts=True)\n",
    "print unique100"
   ]
  },
  {
   "cell_type": "code",
   "execution_count": 39,
   "metadata": {
    "collapsed": false
   },
   "outputs": [
    {
     "data": {
      "text/plain": [
       "<matplotlib.text.Text at 0x15fb2f28>"
      ]
     },
     "execution_count": 39,
     "metadata": {},
     "output_type": "execute_result"
    },
    {
     "data": {
      "image/png": "[encoded data removed]",
      "text/plain": [
       "<matplotlib.figure.Figure at 0x1644f978>"
      ]
     },
     "metadata": {},
     "output_type": "display_data"
    }
   ],
   "source": [
    "plt.plot(unique100, counts100 , 'r-')\n",
    "plt.title('Plot for tend + 100')\n",
    "plt.xlabel('Area of Cell')\n",
    "plt.ylabel('Number of Occurrences')"
   ]
  },
  {
   "cell_type": "code",
   "execution_count": 40,
   "metadata": {
    "collapsed": false
   },
   "outputs": [
    {
     "name": "stdout",
     "output_type": "stream",
     "text": [
      "[58 60 64 68 70 72 74 76 78 80]\n"
     ]
    }
   ],
   "source": [
    "x = np.array(datatend200)\n",
    "unique200, counts200 = np.unique(x, return_counts=True)\n",
    "print unique200"
   ]
  },
  {
   "cell_type": "code",
   "execution_count": 41,
   "metadata": {
    "collapsed": false
   },
   "outputs": [
    {
     "data": {
      "text/plain": [
       "<matplotlib.text.Text at 0x15e6f860>"
      ]
     },
     "execution_count": 41,
     "metadata": {},
     "output_type": "execute_result"
    },
    {
     "data": {
      "image/png": "[encoded data removed]",
      "text/plain": [
       "<matplotlib.figure.Figure at 0x86dd0b8>"
      ]
     },
     "metadata": {},
     "output_type": "display_data"
    }
   ],
   "source": [
    "plt.plot(unique200, counts200 , 'r-')\n",
    "plt.title('Plot for tend + 200')\n",
    "plt.xlabel('Area of Cell')\n",
    "plt.ylabel('Number of Occurrences')"
   ]
  },
  {
   "cell_type": "code",
   "execution_count": 42,
   "metadata": {
    "collapsed": false
   },
   "outputs": [
    {
     "data": {
      "image/png": "[encoded data removed]",
      "text/plain": [
       "<matplotlib.figure.Figure at 0x7c05588>"
      ]
     },
     "metadata": {},
     "output_type": "display_data"
    }
   ],
   "source": [
    "plt.plot(unique, counts , label = 'tend' , linewidth = 2)\n",
    "plt.plot(unique100, counts100 , label = 'tend + 100' , linewidth = 2)\n",
    "plt.plot(unique200, counts200 , label = 'tend + 200' , linewidth = 2)\n",
    "plt.title('Number of cells vs area, tend = PDMS Removal Point')\n",
    "plt.xlabel('Area of Cell')\n",
    "plt.ylabel('Number of Occurrences')\n",
    "plt.legend()\n",
    "plt.savefig(\"Area plotall Circle R2.png\")"
   ]
  },
  {
   "cell_type": "code",
   "execution_count": null,
   "metadata": {
    "collapsed": true
   },
   "outputs": [],
   "source": []
  },
  {
   "cell_type": "code",
   "execution_count": null,
   "metadata": {
    "collapsed": true
   },
   "outputs": [],
   "source": []
  },
  {
   "cell_type": "code",
   "execution_count": null,
   "metadata": {
    "collapsed": true
   },
   "outputs": [],
   "source": []
  },
  {
   "cell_type": "code",
   "execution_count": null,
   "metadata": {
    "collapsed": true
   },
   "outputs": [],
   "source": []
  },
  {
   "cell_type": "code",
   "execution_count": null,
   "metadata": {
    "collapsed": true
   },
   "outputs": [],
   "source": []
  },
  {
   "cell_type": "code",
   "execution_count": null,
   "metadata": {
    "collapsed": true
   },
   "outputs": [],
   "source": []
  },
  {
   "cell_type": "code",
   "execution_count": null,
   "metadata": {
    "collapsed": true
   },
   "outputs": [],
   "source": []
  },
  {
   "cell_type": "code",
   "execution_count": null,
   "metadata": {
    "collapsed": true
   },
   "outputs": [],
   "source": []
  },
  {
   "cell_type": "code",
   "execution_count": null,
   "metadata": {
    "collapsed": true
   },
   "outputs": [],
   "source": []
  }
 ],
 "metadata": {
  "kernelspec": {
   "display_name": "Python 2",
   "language": "python",
   "name": "python2"
  },
  "language_info": {
   "codemirror_mode": {
    "name": "ipython",
    "version": 2
   },
   "file_extension": ".py",
   "mimetype": "text/x-python",
   "name": "python",
   "nbconvert_exporter": "python",
   "pygments_lexer": "ipython2",
   "version": "2.7.11"
  }
 },
 "nbformat": 4,
 "nbformat_minor": 0
}
