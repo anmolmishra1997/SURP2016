{
 "cells": [
  {
   "cell_type": "code",
   "execution_count": 1,
   "metadata": {
    "collapsed": false
   },
   "outputs": [],
   "source": [
    "import csv\n",
    "f1 = open (\"C:\\Users\\Anmol Mishra\\CC3DWorkspace\\Phase 2\\Demo_cc3d_05_24_2016_17_57_21\\data.csv\" , \"rb\")\n",
    "data = csv.reader(f1)"
   ]
  },
  {
   "cell_type": "code",
   "execution_count": 2,
   "metadata": {
    "collapsed": false
   },
   "outputs": [],
   "source": [
    "newdata = []\n",
    "for line in data:\n",
    "        newdata.append(line)"
   ]
  },
  {
   "cell_type": "code",
   "execution_count": 3,
   "metadata": {
    "collapsed": false
   },
   "outputs": [],
   "source": [
    "finalVolume = 0\n",
    "for i in range(len(newdata)):\n",
    "    if int(newdata[i][3])>finalVolume:\n",
    "        finalVolume = int(newdata[i][3])"
   ]
  },
  {
   "cell_type": "code",
   "execution_count": 4,
   "metadata": {
    "collapsed": false
   },
   "outputs": [
    {
     "data": {
      "text/plain": [
       "10198"
      ]
     },
     "execution_count": 4,
     "metadata": {},
     "output_type": "execute_result"
    }
   ],
   "source": [
    "finalVolume"
   ]
  },
  {
   "cell_type": "code",
   "execution_count": 5,
   "metadata": {
    "collapsed": false
   },
   "outputs": [],
   "source": [
    "tend = 0\n",
    "for i in range(len(newdata)):\n",
    "    if int(newdata[i][3])==finalVolume:\n",
    "        tend = int(newdata[i][0])\n",
    "        break"
   ]
  },
  {
   "cell_type": "code",
   "execution_count": 9,
   "metadata": {
    "collapsed": false
   },
   "outputs": [],
   "source": [
    "tend\n",
    "from math import sqrt"
   ]
  },
  {
   "cell_type": "code",
   "execution_count": 10,
   "metadata": {
    "collapsed": false
   },
   "outputs": [],
   "source": [
    "X = float(newdata[0][5])\n",
    "Y = float(newdata[0][6])\n",
    "datatend = []\n",
    "datatend100 = []\n",
    "datatend200 = []\n",
    "for i in newdata:\n",
    "    if int(i[0])==tend:\n",
    "        distance = (sqrt((float(i[5])-X)**2 + (float(i[6])-Y)**2) )\n",
    "        datatend.append([int(i[2]),distance] )\n",
    "    if int(i[0])==tend+100:\n",
    "        distance = (sqrt((float(i[5])-X)**2 + (float(i[6])-Y)**2) )\n",
    "        datatend100.append([int(i[2]),distance])\n",
    "    if int(i[0])==tend+200:\n",
    "        distance = (sqrt((float(i[5])-X)**2 + (float(i[6])-Y)**2) )\n",
    "        datatend200.append([int(i[2]),distance])\n",
    "    if int(i[0])>tend +200:\n",
    "        break"
   ]
  },
  {
   "cell_type": "code",
   "execution_count": 11,
   "metadata": {
    "collapsed": false
   },
   "outputs": [],
   "source": [
    "%matplotlib inline\n",
    "from matplotlib import pyplot as plt"
   ]
  },
  {
   "cell_type": "code",
   "execution_count": 12,
   "metadata": {
    "collapsed": false
   },
   "outputs": [
    {
     "data": {
      "text/plain": [
       "2.0"
      ]
     },
     "execution_count": 12,
     "metadata": {},
     "output_type": "execute_result"
    }
   ],
   "source": [
    "from math import sqrt\n",
    "sqrt(4)"
   ]
  },
  {
   "cell_type": "code",
   "execution_count": 17,
   "metadata": {
    "collapsed": false
   },
   "outputs": [
    {
     "data": {
      "text/plain": [
       "(array([   6.,   21.,   34.,   53.,   69.,   82.,  111.]),\n",
       " array([  0.,   8.,  16.,  24.,  32.,  40.,  48.,  56.]),\n",
       " <a list of 7 Patch objects>)"
      ]
     },
     "execution_count": 17,
     "metadata": {},
     "output_type": "execute_result"
    },
    {
     "data": {
      "image/png": "[encoded data removed]",
      "text/plain": [
       "<matplotlib.figure.Figure at 0x51456518>"
      ]
     },
     "metadata": {},
     "output_type": "display_data"
    }
   ],
   "source": [
    "import numpy as np\n",
    "x = np.array(datatend)\n",
    "dist = []\n",
    "for i in datatend:\n",
    "    dist.append(i[1])\n",
    "plt.hist(dist , range = (0,56), bins = 7)"
   ]
  },
  {
   "cell_type": "code",
   "execution_count": 29,
   "metadata": {
    "collapsed": false
   },
   "outputs": [
    {
     "data": {
      "text/plain": [
       "[0.47140452079103168,\n",
       " 1.1248582677159731,\n",
       " 1.7307673314329559,\n",
       " 1.8198154837954668,\n",
       " 5.7909387533121501,\n",
       " 8.4280615934046317,\n",
       " 6.1092400458812026,\n",
       " 8.4526612755326287,\n",
       " 6.7873798714856655,\n",
       " 7.0829408940226166,\n",
       " 7.4575422986680637,\n",
       " 7.8825311620482132]"
      ]
     },
     "execution_count": 29,
     "metadata": {},
     "output_type": "execute_result"
    }
   ],
   "source": [
    "varvolume = []\n",
    "maxdist = 0\n",
    "varvolumereal = []\n",
    "for i in datatend:\n",
    "    if i[1]>maxdist:\n",
    "        maxdist = i[1]\n",
    "for i in range(int(maxdist/5)+1):\n",
    "    varvolume.append([])\n",
    "for i in datatend:\n",
    "        varvolume[int(i[1]/5)].append(i[0])\n",
    "for i in varvolume:\n",
    "    varvolumereal.append(np.array(i).std())"
   ]
  },
  {
   "cell_type": "code",
   "execution_count": 38,
   "metadata": {
    "collapsed": false
   },
   "outputs": [
    {
     "data": {
      "text/plain": [
       "[<matplotlib.lines.Line2D at 0x51ce00b8>]"
      ]
     },
     "execution_count": 38,
     "metadata": {},
     "output_type": "execute_result"
    },
    {
     "data": {
      "image/png": "[encoded data removed]",
      "text/plain": [
       "<matplotlib.figure.Figure at 0x51b45438>"
      ]
     },
     "metadata": {},
     "output_type": "display_data"
    }
   ],
   "source": [
    "x = range(0,int(maxdist), 5)\n",
    "plt.plot(x,varvolumereal)"
   ]
  },
  {
   "cell_type": "code",
   "execution_count": 18,
   "metadata": {
    "collapsed": false
   },
   "outputs": [
    {
     "name": "stdout",
     "output_type": "stream",
     "text": [
      "[  3.36605896   3.71527847   4.3806017    6.24022799   6.6753134\n",
      "   7.80156679   8.09331997   8.62499381   9.           9.20353827\n",
      "   9.86086085  10.          10.584447    11.          11.06026853\n",
      "  11.52310993  11.55007338  11.99881965  12.          12.43463358\n",
      "  12.894018    13.          13.60730079  14.          14.08836399\n",
      "  14.5195067   14.70213522  14.75332517  14.75353607  14.85213789\n",
      "  14.98633527  15.          15.76100819  15.76358306  16.          16.07324412\n",
      "  17.          17.12601138  17.52560493  17.63873858  17.81213624\n",
      "  17.91146499  18.          18.24035209  18.98256787  19.          19.20439292\n",
      "  19.3374306   19.38275954  19.47513171  19.5705782   19.71034697\n",
      "  19.91574887  19.98855784  20.          20.0273675   20.49140852\n",
      "  20.66731719  21.          21.34666835  21.54672876  22.          22.01676634\n",
      "  22.05391724  22.27664176  22.41276718  22.52690947  22.60776273\n",
      "  22.92762582  23.          23.04488956  23.37781547  23.38055026\n",
      "  23.38237478  23.70809668  23.95818811  24.          24.05109048\n",
      "  24.40676046  24.69921588  24.71605331  24.82682393  25.          25.20575161\n",
      "  25.38487862  25.40237864  25.43475607  25.4648339   25.65146303\n",
      "  25.7191873   25.72652803  26.          26.3341951   26.54884435\n",
      "  26.62159387  26.67533843  27.          27.14628543  27.47171904\n",
      "  27.73883634  27.82935005  28.          28.05479658  28.1190298\n",
      "  28.18183911  28.23431007  28.24719652  28.4548809   28.62541712\n",
      "  28.66407118  28.98023698  29.          29.07547267  29.10148441\n",
      "  29.17912936  29.22514021  29.95369624  30.          30.09498816\n",
      "  30.09831864  30.10006135  30.20160921  30.31122772  30.36496519\n",
      "  30.579314    30.93114769  31.          31.12841146  31.2174441\n",
      "  31.31580153  31.33926069  31.42662884  31.46664195  31.60122907\n",
      "  31.92023143  31.94203921  31.98655753  32.          32.06314534\n",
      "  32.39049586  32.60672851  32.84040332  32.98859512  33.          33.18215082\n",
      "  33.35748458  33.49436109  33.62535711  33.82383775  34.          34.01218463\n",
      "  34.03573152  34.03857529  34.17307748  34.42920461  34.52647372\n",
      "  34.64355482  34.65693453  34.73053092  34.78783803  34.95508218  35.\n",
      "  35.12132455  35.14358942  35.14748555  35.2961402   35.32925311\n",
      "  35.41935672  35.63086672  35.69625606  35.85109063  36.          36.36804764\n",
      "  36.39530189  36.91788793  36.92719865  37.          37.16486873\n",
      "  37.17452234  37.17941797  37.35135833  37.41800398  37.67312743\n",
      "  37.6732961   37.67756774  37.74975259  37.77622275  37.87631928  38.\n",
      "  38.09496619  38.18119158  38.24364262  38.3423723   38.40864423\n",
      "  38.41011584  38.50945646  38.57223854  38.64375202  38.7316438\n",
      "  38.81417793  38.84908885  39.0175557   39.29095422  39.43752797\n",
      "  39.47479736  39.50942732  39.58060801  39.59605866  39.61325515\n",
      "  39.78635444  39.80632534  39.89290664  39.91392753  40.13324199\n",
      "  40.17845569  40.18050384  40.27701854  40.61350944  40.83645634\n",
      "  40.92027347  41.08825897  41.22995574  41.26776125  41.26846792\n",
      "  41.30977806  41.31993172  41.46565426  41.76321497  41.87605278\n",
      "  42.00419428  42.11723585  42.2712144   42.3604136   42.42482764\n",
      "  42.78549225  42.85708024  42.92870577  43.21582081  43.25212006\n",
      "  43.33803431  43.40387314  43.44854052  43.54762017  43.57485513\n",
      "  43.72588478  43.74071899  43.74701319  43.75038276  43.78998161\n",
      "  44.04999594  44.08939142  44.11245699  44.24321867  44.27084359\n",
      "  44.41931762  44.61908556  44.64662509  44.79122861  44.98392058\n",
      "  45.05953568  45.11883599  45.12207442  45.23905599  45.27544619\n",
      "  45.3797019   45.81507274  45.81899966  45.82488407  45.82592439\n",
      "  46.11115002  46.17476827  46.30349774  46.31231781  46.34766919\n",
      "  46.48301554  46.53811819  46.70569014  46.77962044  46.8182894\n",
      "  46.84226942  46.90414063  46.90898452  46.93986046  46.94519851\n",
      "  46.995962    47.0626569   47.09577063  47.16552873  47.51221422\n",
      "  47.52576752  47.69691186  47.73199253  47.81456984  47.89302199\n",
      "  47.98517966  48.21570057  48.29653795  48.38286254  48.40235693\n",
      "  48.81562819  48.86420142  48.8721441   48.89862092  49.12882939\n",
      "  49.18029825  49.19235765  49.2277057   49.27840298  49.31234328\n",
      "  49.53069622  49.53425776  49.67633239  49.68710481  49.69446997\n",
      "  49.74878872  49.85122867  50.01834653  50.02180601  50.03152785\n",
      "  50.07504283  50.14049062  50.15141086  50.15961659  50.30624437\n",
      "  50.40002275  50.43385855  50.48041285  50.50280207  50.71277799\n",
      "  50.88705135  50.91236363  51.10195875  51.14988172  51.35116092\n",
      "  51.53468177  51.56918511  51.65275177  51.68494236  51.84342882\n",
      "  51.95322897  51.96701606  51.9701547   52.06282178  52.16130061\n",
      "  52.17687526  52.21924549  52.23370772  52.71926404  52.86139371\n",
      "  53.00303746  53.03474605  53.14152974  53.27287982  53.28308466\n",
      "  53.40272371  53.45996934  53.66210128  53.66987568  53.75145219\n",
      "  53.85297672  53.89164024  53.91028939  53.95682484  54.00270439\n",
      "  54.06209598  54.08243505  54.09624843  54.13968452  54.14737696\n",
      "  54.23370211  54.24631812  54.25355758  54.34299912  54.37133294\n",
      "  54.38044571  54.39046171  54.42338633  54.44612475  54.47070023\n",
      "  54.4879844   54.58483376  54.62406942  54.67002178  54.67653244\n",
      "  54.84580941  54.86647428  54.96115497  54.98324077  54.99599177\n",
      "  55.01706604  55.06134716  55.06815692  55.2517535   55.25475545\n",
      "  55.26206219  55.3287727   55.35041218  55.38766743  55.41966092\n",
      "  55.47142431  55.5577482   55.56474511  55.71244425  55.7417927\n",
      "  55.83620815  55.92858436  56.0338318   56.16735663  56.27297934\n",
      "  56.42177673  56.70885651]\n"
     ]
    }
   ],
   "source": [
    "x = np.array(datatend)\n",
    "unique, counts = np.unique(x, return_counts=True)\n",
    "print unique"
   ]
  },
  {
   "cell_type": "code",
   "execution_count": 19,
   "metadata": {
    "collapsed": false
   },
   "outputs": [
    {
     "data": {
      "text/plain": [
       "<matplotlib.text.Text at 0x5166eb70>"
      ]
     },
     "execution_count": 19,
     "metadata": {},
     "output_type": "execute_result"
    },
    {
     "data": {
      "image/png": "[encoded data removed]",
      "text/plain": [
       "<matplotlib.figure.Figure at 0x5110d940>"
      ]
     },
     "metadata": {},
     "output_type": "display_data"
    }
   ],
   "source": [
    "plt.plot(unique, counts , 'r-')\n",
    "plt.title('Plot for tend ')\n",
    "plt.xlabel('Volume of Cell')\n",
    "plt.ylabel('Number of Occurrences')"
   ]
  },
  {
   "cell_type": "code",
   "execution_count": null,
   "metadata": {
    "collapsed": false
   },
   "outputs": [],
   "source": [
    "x = np.array(datatend100)\n",
    "unique100, counts100 = np.unique(x, return_counts=True)\n",
    "print unique100"
   ]
  },
  {
   "cell_type": "code",
   "execution_count": null,
   "metadata": {
    "collapsed": false
   },
   "outputs": [],
   "source": [
    "plt.plot(unique100, counts100 , 'r-')\n",
    "plt.title('Plot for tend + 100')\n",
    "plt.xlabel('Volume of Cell')\n",
    "plt.ylabel('Number of Occurrences')"
   ]
  },
  {
   "cell_type": "code",
   "execution_count": null,
   "metadata": {
    "collapsed": false
   },
   "outputs": [],
   "source": [
    "x = np.array(datatend200)\n",
    "unique200, counts200 = np.unique(x, return_counts=True)\n",
    "print unique200"
   ]
  },
  {
   "cell_type": "code",
   "execution_count": null,
   "metadata": {
    "collapsed": false
   },
   "outputs": [],
   "source": [
    "plt.plot(unique200, counts200 , 'r-')\n",
    "plt.title('Plot for tend + 200')\n",
    "plt.xlabel('Volume of Cell')\n",
    "plt.ylabel('Number of Occurrences')"
   ]
  },
  {
   "cell_type": "code",
   "execution_count": null,
   "metadata": {
    "collapsed": false
   },
   "outputs": [],
   "source": [
    "plt.plot(unique, counts , label = 'tend' , linewidth = 2)\n",
    "plt.plot(unique100, counts100 , label = 'tend + 100' , linewidth = 2)\n",
    "plt.plot(unique200, counts200 , label = 'tend + 200' , linewidth = 2)\n",
    "plt.title('Number of cells vs volume, tend = point of saturation')\n",
    "plt.xlabel('Volume of Cell')\n",
    "plt.ylabel('Number of Occurrences')\n",
    "plt.legend()\n",
    "plt.savefig(\"plotall Circle R2.png\")"
   ]
  },
  {
   "cell_type": "code",
   "execution_count": 1,
   "metadata": {
    "collapsed": true
   },
   "outputs": [],
   "source": [
    "a = [[1,2],[3,4]]"
   ]
  },
  {
   "cell_type": "code",
   "execution_count": 2,
   "metadata": {
    "collapsed": false
   },
   "outputs": [
    {
     "data": {
      "text/plain": [
       "[3, 4]"
      ]
     },
     "execution_count": 2,
     "metadata": {},
     "output_type": "execute_result"
    }
   ],
   "source": [
    "a[1]"
   ]
  },
  {
   "cell_type": "code",
   "execution_count": 3,
   "metadata": {
    "collapsed": false
   },
   "outputs": [
    {
     "data": {
      "text/plain": [
       "[1, 2]"
      ]
     },
     "execution_count": 3,
     "metadata": {},
     "output_type": "execute_result"
    }
   ],
   "source": [
    "a[0]"
   ]
  },
  {
   "cell_type": "code",
   "execution_count": null,
   "metadata": {
    "collapsed": true
   },
   "outputs": [],
   "source": []
  }
 ],
 "metadata": {
  "kernelspec": {
   "display_name": "Python 2",
   "language": "python",
   "name": "python2"
  },
  "language_info": {
   "codemirror_mode": {
    "name": "ipython",
    "version": 2
   },
   "file_extension": ".py",
   "mimetype": "text/x-python",
   "name": "python",
   "nbconvert_exporter": "python",
   "pygments_lexer": "ipython2",
   "version": "2.7.11"
  }
 },
 "nbformat": 4,
 "nbformat_minor": 0
}
