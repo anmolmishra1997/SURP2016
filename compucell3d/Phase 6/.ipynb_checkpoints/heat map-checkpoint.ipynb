{
 "cells": [
  {
   "cell_type": "code",
   "execution_count": null,
   "metadata": {
    "collapsed": true
   },
   "outputs": [],
   "source": [
    "import csv\n",
    "f1 = open (\"C:\\Users\\Anmol Mishra\\CC3DWorkspace\\Phase 3 New\\Jcc = 5\\Circle R2\\Demo.cc3d-2016-05-29-02-42-56-772000\\data.csv\" , \"rb\")\n",
    "data = csv.reader(f1)"
   ]
  },
  {
   "cell_type": "code",
   "execution_count": null,
   "metadata": {
    "collapsed": true
   },
   "outputs": [],
   "source": [
    "newdata = []\n",
    "for line in data:\n",
    "        newdata.append(line)"
   ]
  },
  {
   "cell_type": "code",
   "execution_count": null,
   "metadata": {
    "collapsed": true
   },
   "outputs": [],
   "source": [
    "finalVolume = 0\n",
    "for i in range(len(newdata)):\n",
    "    if int(newdata[i][3])>finalVolume:\n",
    "        finalVolume = int(newdata[i][3])"
   ]
  },
  {
   "cell_type": "code",
   "execution_count": null,
   "metadata": {
    "collapsed": true
   },
   "outputs": [],
   "source": [
    "tend = 0\n",
    "for i in range(len(newdata)):\n",
    "    if int(newdata[i][3])==finalVolume:\n",
    "        tend = int(newdata[i][0])\n",
    "        break"
   ]
  },
  {
   "cell_type": "code",
   "execution_count": null,
   "metadata": {
    "collapsed": false
   },
   "outputs": [],
   "source": [
    "tend"
   ]
  },
  {
   "cell_type": "code",
   "execution_count": null,
   "metadata": {
    "collapsed": false
   },
   "outputs": [],
   "source": [
    "x= []\n",
    "y =[]\n",
    "z = []\n",
    "x100 = []\n",
    "y100 = []\n",
    "z100 = []\n",
    "x200 = []\n",
    "y200 = []\n",
    "z200 = []\n",
    "for i in newdata:\n",
    "    if int(i[0])==tend:\n",
    "        x.append(float(i[5]))\n",
    "        y.append(float(i[6]))\n",
    "        z.append(int(i[2]))\n",
    "    if int(i[0])==tend+100:\n",
    "        x100.append(float(i[5]))\n",
    "        y100.append(float(i[6]))\n",
    "        z100.append(int(i[2]))\n",
    "    if int(i[0])==tend+200:\n",
    "        x200.append(float(i[5]))\n",
    "        y200.append(float(i[6]))\n",
    "        z200.append(int(i[2]))\n",
    "    if int(i[0])>tend +200:\n",
    "        break"
   ]
  },
  {
   "cell_type": "code",
   "execution_count": null,
   "metadata": {
    "collapsed": true
   },
   "outputs": [],
   "source": [
    "import numpy as np\n",
    "import matplotlib.pyplot as plt\n",
    "import scipy.interpolate\n",
    "%matplotlib inline"
   ]
  },
  {
   "cell_type": "code",
   "execution_count": null,
   "metadata": {
    "collapsed": false
   },
   "outputs": [],
   "source": [
    "# Generate data:\n",
    "x = np.array(x)\n",
    "y = np.array(y)\n",
    "z = np.array(z)\n",
    "# Set up a regular grid of interpolation points\n",
    "xi, yi = np.linspace(x.min(), x.max(), 200), np.linspace(y.min(), y.max(), 200)\n",
    "xi, yi = np.meshgrid(xi, yi)\n",
    "\n",
    "# Interpolate\n",
    "rbf = scipy.interpolate.Rbf(x, y, z, function='linear')\n",
    "zi = rbf(xi, yi)\n",
    "\n",
    "plt.imshow(zi, vmin=z.min(), vmax=z.max(), origin='lower',\n",
    "           extent=[x.min(), x.max(), y.min(), y.max()])\n",
    "plt.scatter(x, y, c=z)\n",
    "plt.colorbar()\n",
    "plt.savefig(\"Volume at tend\")\n",
    "plt.show()"
   ]
  },
  {
   "cell_type": "code",
   "execution_count": null,
   "metadata": {
    "collapsed": false
   },
   "outputs": [],
   "source": [
    "# Generate data:\n",
    "x = np.array(x100)\n",
    "y = np.array(y100)\n",
    "z = np.array(z100)\n",
    "# Set up a regular grid of interpolation points\n",
    "xi, yi = np.linspace(x.min(), x.max(), 200), np.linspace(y.min(), y.max(), 200)\n",
    "xi, yi = np.meshgrid(xi, yi)\n",
    "\n",
    "# Interpolate\n",
    "rbf = scipy.interpolate.Rbf(x, y, z, function='linear')\n",
    "zi = rbf(xi, yi)\n",
    "\n",
    "plt.imshow(zi, vmin=z.min(), vmax=z.max(), origin='lower',\n",
    "           extent=[x.min(), x.max(), y.min(), y.max()])\n",
    "plt.scatter(x, y, c=z)\n",
    "plt.colorbar()\n",
    "plt.savefig(\"Volume at tend + 100\")\n",
    "plt.show()"
   ]
  },
  {
   "cell_type": "code",
   "execution_count": null,
   "metadata": {
    "collapsed": false
   },
   "outputs": [],
   "source": [
    "# Generate data:\n",
    "x = np.array(x200)\n",
    "y = np.array(y200)\n",
    "z = np.array(z200)\n",
    "# Set up a regular grid of interpolation points\n",
    "xi, yi = np.linspace(x.min(), x.max(), 200), np.linspace(y.min(), y.max(), 200)\n",
    "xi, yi = np.meshgrid(xi, yi)\n",
    "\n",
    "# Interpolate\n",
    "rbf = scipy.interpolate.Rbf(x, y, z, function='linear')\n",
    "zi = rbf(xi, yi)\n",
    "\n",
    "plt.imshow(zi, vmin=z.min(), vmax=z.max(), origin='lower',\n",
    "           extent=[x.min(), x.max(), y.min(), y.max()])\n",
    "plt.scatter(x, y, c=z)\n",
    "plt.colorbar()\n",
    "plt.savefig(\"Volume at tend + 200\")\n",
    "plt.show()"
   ]
  }
 ],
 "metadata": {
  "kernelspec": {
   "display_name": "Python 2",
   "language": "python",
   "name": "python2"
  },
  "language_info": {
   "codemirror_mode": {
    "name": "ipython",
    "version": 2
   },
   "file_extension": ".py",
   "mimetype": "text/x-python",
   "name": "python",
   "nbconvert_exporter": "python",
   "pygments_lexer": "ipython2",
   "version": "2.7.11"
  }
 },
 "nbformat": 4,
 "nbformat_minor": 0
}
