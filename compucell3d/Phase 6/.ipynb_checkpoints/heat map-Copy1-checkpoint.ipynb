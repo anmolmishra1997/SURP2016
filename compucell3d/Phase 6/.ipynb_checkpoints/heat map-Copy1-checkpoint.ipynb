{
 "cells": [
  {
   "cell_type": "code",
   "execution_count": null,
   "metadata": {
    "collapsed": true
   },
   "outputs": [],
   "source": [
    "import csv\n",
    "f1 = open (\"C:\\Users\\Anmol Mishra\\CC3DWorkspace\\Phase 6\\With migration\\Jcc = 5\\Circle R2\\Demo_cc3d_07_01_2016_14_26_18\\data.csv\" , \"rb\")\n",
    "data = csv.reader(f1)"
   ]
  },
  {
   "cell_type": "code",
   "execution_count": null,
   "metadata": {
    "collapsed": true
   },
   "outputs": [],
   "source": [
    "newdata = []\n",
    "for line in data:\n",
    "    newdata.append(line)"
   ]
  },
  {
   "cell_type": "code",
   "execution_count": null,
   "metadata": {
    "collapsed": true
   },
   "outputs": [],
   "source": [
    "import numpy as np\n",
    "import matplotlib.pyplot as plt\n",
    "import scipy.interpolate"
   ]
  },
  {
   "cell_type": "code",
   "execution_count": null,
   "metadata": {
    "collapsed": false
   },
   "outputs": [],
   "source": [
    "x1 = []\n",
    "y1 = []\n",
    "z1 = []\n",
    "for i in range(len(newdata)-1):\n",
    "    if int(newdata[i][0])<15000:\n",
    "        continue\n",
    "    if int(newdata[i][0])%100==0:\n",
    "        x1.append(float(newdata[i][5]))\n",
    "        y1.append(float(newdata[i][6]))\n",
    "        z1.append(int(newdata[i][2]))\n",
    "        if int(newdata[i][0])!=int(newdata[i+1][0]):\n",
    "            # Generate data:\n",
    "            x = np.array(x1)\n",
    "            y = np.array(y1)\n",
    "            z = np.array(z1)\n",
    "            # Set up a regular grid of interpolation points\n",
    "            xi, yi = np.linspace(x.min(), x.max(), 200), np.linspace(y.min(), y.max(), 200)\n",
    "            xi, yi = np.meshgrid(xi, yi)\n",
    "\n",
    "            # Interpolate\n",
    "            rbf = scipy.interpolate.Rbf(x, y, z, function='linear')\n",
    "            zi = rbf(xi, yi)\n",
    "\n",
    "            plt.imshow(zi, vmin=z.min(), vmax=z.max(), origin='lower',\n",
    "                       extent=[x.min(), x.max(), y.min(), y.max()])\n",
    "            plt.scatter(x, y, c=z)\n",
    "            plt.colorbar()\n",
    "            plt.savefig(str(int(newdata[i][0])))\n",
    "            plt.clf()\n",
    "            x1 = []\n",
    "            y1 = []\n",
    "            z1 = []"
   ]
  }
 ],
 "metadata": {
  "kernelspec": {
   "display_name": "Python 2",
   "language": "python",
   "name": "python2"
  },
  "language_info": {
   "codemirror_mode": {
    "name": "ipython",
    "version": 2
   },
   "file_extension": ".py",
   "mimetype": "text/x-python",
   "name": "python",
   "nbconvert_exporter": "python",
   "pygments_lexer": "ipython2",
   "version": "2.7.11"
  }
 },
 "nbformat": 4,
 "nbformat_minor": 0
}
