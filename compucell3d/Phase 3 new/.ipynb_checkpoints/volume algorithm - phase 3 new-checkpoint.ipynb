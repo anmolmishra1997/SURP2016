{
 "cells": [
  {
   "cell_type": "code",
   "execution_count": null,
   "metadata": {
    "collapsed": false
   },
   "outputs": [],
   "source": [
    "import csv\n",
    "f1 = open (\"C:\\Users\\Anmol Mishra\\CC3DWorkspace\\Phase 3\\Jcc = 5\\Circle R2\\Demo_cc3d_05_26_2016_14_25_30\\data.csv\" , \"rb\")\n",
    "data = csv.reader(f1)"
   ]
  },
  {
   "cell_type": "code",
   "execution_count": null,
   "metadata": {
    "collapsed": false
   },
   "outputs": [],
   "source": [
    "newdata = []\n",
    "for line in data:\n",
    "        newdata.append(line)"
   ]
  },
  {
   "cell_type": "code",
   "execution_count": null,
   "metadata": {
    "collapsed": false
   },
   "outputs": [],
   "source": [
    "finalVolume = 0\n",
    "for i in range(len(newdata)):\n",
    "    if int(newdata[i][3])>finalVolume:\n",
    "        finalVolume = int(newdata[i][3])"
   ]
  },
  {
   "cell_type": "code",
   "execution_count": null,
   "metadata": {
    "collapsed": false
   },
   "outputs": [],
   "source": [
    "tend = 0\n",
    "for i in range(len(newdata)):\n",
    "    if int(newdata[i][3])==finalVolume:\n",
    "        tend = int(newdata[i][0])\n",
    "        break"
   ]
  },
  {
   "cell_type": "code",
   "execution_count": null,
   "metadata": {
    "collapsed": false
   },
   "outputs": [],
   "source": [
    "tend"
   ]
  },
  {
   "cell_type": "code",
   "execution_count": null,
   "metadata": {
    "collapsed": true
   },
   "outputs": [],
   "source": [
    "from math import sqrt"
   ]
  },
  {
   "cell_type": "code",
   "execution_count": null,
   "metadata": {
    "collapsed": false
   },
   "outputs": [],
   "source": [
    "X = float(newdata[0][5])\n",
    "Y = float(newdata[0][6])\n",
    "datatend = []\n",
    "datatend100 = []\n",
    "datatend200 = []\n",
    "for i in newdata:\n",
    "    if int(i[0])==tend:\n",
    "        distance = (sqrt((float(i[5])-X)**2 + (float(i[6])-Y)**2) )\n",
    "        datatend.append([int(i[2]),distance] )\n",
    "    if int(i[0])==tend+100:\n",
    "        distance = (sqrt((float(i[5])-X)**2 + (float(i[6])-Y)**2) )\n",
    "        datatend100.append([int(i[2]),distance])\n",
    "    if int(i[0])==tend+200:\n",
    "        distance = (sqrt((float(i[5])-X)**2 + (float(i[6])-Y)**2) )\n",
    "        datatend200.append([int(i[2]),distance])\n",
    "    if int(i[0])>tend +200:\n",
    "        break"
   ]
  },
  {
   "cell_type": "code",
   "execution_count": null,
   "metadata": {
    "collapsed": false
   },
   "outputs": [],
   "source": [
    "%matplotlib inline\n",
    "from matplotlib import pyplot as plt"
   ]
  },
  {
   "cell_type": "code",
   "execution_count": null,
   "metadata": {
    "collapsed": false
   },
   "outputs": [],
   "source": [
    "import numpy as np\n",
    "dist = []\n",
    "for i in datatend:\n",
    "    dist.append(i[1])\n",
    "plt.hist(dist , range = (0,int(max(dist))/5 *5 +5), bins = int(max(dist))/5+1)\n",
    "plt.title('Number of cells vs distance tend')\n",
    "plt.xlabel('Volume of Cell')\n",
    "plt.ylabel('Number of Occurrences')\n",
    "plt.savefig('Number of cells T_end')"
   ]
  },
  {
   "cell_type": "code",
   "execution_count": null,
   "metadata": {
    "collapsed": false
   },
   "outputs": [],
   "source": [
    "dist = []\n",
    "for i in datatend100:\n",
    "    dist.append(i[1])\n",
    "plt.hist(dist , range = (0,int(max(dist))/5 *5 +5), bins = int(max(dist))/5+1)\n",
    "plt.title('Number of cells vs distance tend+100')\n",
    "plt.xlabel('Distance from COM')\n",
    "plt.ylabel('Number of Cells')\n",
    "plt.savefig('Number of cells T_end + 100')"
   ]
  },
  {
   "cell_type": "code",
   "execution_count": null,
   "metadata": {
    "collapsed": false
   },
   "outputs": [],
   "source": [
    "dist = []\n",
    "for i in datatend200:\n",
    "    dist.append(i[1])\n",
    "plt.hist(dist , range = (0,int(max(dist))/5 *5 +5), bins = int(max(dist))/5+1)\n",
    "plt.title('Number of cells vs distance tend+200')\n",
    "plt.xlabel('Distance from COM')\n",
    "plt.ylabel('Number of Cells')\n",
    "plt.savefig('Number of cells T_end + 200')"
   ]
  },
  {
   "cell_type": "code",
   "execution_count": null,
   "metadata": {
    "collapsed": false
   },
   "outputs": [],
   "source": [
    "varvolume = []\n",
    "maxdist = 0\n",
    "varvolumereal1 = []\n",
    "for i in datatend:\n",
    "    if i[1]>maxdist:\n",
    "        maxdist = i[1]\n",
    "for i in range(int(maxdist/5)+1):\n",
    "    varvolume.append([])\n",
    "for i in datatend:\n",
    "        varvolume[int(i[1]/5)].append(i[0])\n",
    "for i in varvolume:\n",
    "    varvolumereal1.append(np.array(i).std())\n",
    "x = range(0,int(maxdist)+5, 5)\n",
    "plt.plot(x,varvolumereal1)\n",
    "plt.title('Volume heterogeneity vs distance tend')\n",
    "plt.xlabel('Distance')\n",
    "plt.ylabel('Volume Heterogeneity')"
   ]
  },
  {
   "cell_type": "code",
   "execution_count": null,
   "metadata": {
    "collapsed": false
   },
   "outputs": [],
   "source": [
    "varvolume = []\n",
    "maxdist = 0\n",
    "varvolumereal2 = []\n",
    "for i in datatend100:\n",
    "    if i[1]>maxdist:\n",
    "        maxdist = i[1]\n",
    "for i in range(int(maxdist/5)+1):\n",
    "    varvolume.append([])\n",
    "for i in datatend100:\n",
    "        varvolume[int(i[1]/5)].append(i[0])\n",
    "for i in varvolume:\n",
    "    varvolumereal2.append(np.array(i).std())\n",
    "x = range(0,int(maxdist)+5, 5)\n",
    "plt.plot(x,varvolumereal2)\n",
    "plt.title('Volume heterogeneity vs distance tend+100')\n",
    "plt.xlabel('Distance')\n",
    "plt.ylabel('Volume Heterogeneity')"
   ]
  },
  {
   "cell_type": "code",
   "execution_count": null,
   "metadata": {
    "collapsed": false
   },
   "outputs": [],
   "source": [
    "varvolume = []\n",
    "maxdist = 0\n",
    "varvolumereal3 = []\n",
    "for i in datatend200:\n",
    "    if i[1]>maxdist:\n",
    "        maxdist = i[1]\n",
    "for i in range(int(maxdist/5)+1):\n",
    "    varvolume.append([])\n",
    "for i in datatend200:\n",
    "        varvolume[int(i[1]/5)].append(i[0])\n",
    "for i in varvolume:\n",
    "    varvolumereal3.append(np.array(i).std())\n",
    "x = range(0,int(maxdist)+5, 5)\n",
    "plt.plot(x,varvolumereal3)\n",
    "plt.title('Volume heterogeneity vs distance tend+200')\n",
    "plt.xlabel('Distance')\n",
    "plt.ylabel('Volume Heterogeneity')"
   ]
  },
  {
   "cell_type": "code",
   "execution_count": null,
   "metadata": {
    "collapsed": false
   },
   "outputs": [],
   "source": [
    "\n",
    "plt.plot(x,varvolumereal1 , label = \"tend\", linewidth = 2)\n",
    "\n",
    "plt.plot(x,varvolumereal2, label = \"tend+100\", linewidth = 2)\n",
    "\n",
    "plt.plot(x,varvolumereal3, label = \"tend+200\", linewidth = 2)\n",
    "plt.title('Volume heterogeneity vs distance')\n",
    "plt.xlabel('Distance')\n",
    "plt.ylabel('Volume Heterogeneity')\n",
    "plt.legend(loc =4)\n",
    "plt.savefig(\"Circular Volume heterogeneity Circle R2\")"
   ]
  },
  {
   "cell_type": "code",
   "execution_count": null,
   "metadata": {
    "collapsed": false
   },
   "outputs": [],
   "source": [
    "vol=[]\n",
    "for i in datatend:\n",
    "    vol.append(i[0])\n",
    "x = np.array(vol)\n",
    "unique, counts = np.unique(x, return_counts=True)\n",
    "print unique"
   ]
  },
  {
   "cell_type": "code",
   "execution_count": null,
   "metadata": {
    "collapsed": false
   },
   "outputs": [],
   "source": [
    "plt.plot(unique, counts , 'r-')\n",
    "plt.title('Plot for tend ')\n",
    "plt.xlabel('Volume of Cell')\n",
    "plt.ylabel('Number of Occurrences')"
   ]
  },
  {
   "cell_type": "code",
   "execution_count": null,
   "metadata": {
    "collapsed": false
   },
   "outputs": [],
   "source": [
    "vol=[]\n",
    "for i in datatend100:\n",
    "    vol.append(i[0])\n",
    "x = np.array(vol)\n",
    "unique100, counts100 = np.unique(x, return_counts=True)\n",
    "print unique100"
   ]
  },
  {
   "cell_type": "code",
   "execution_count": null,
   "metadata": {
    "collapsed": false
   },
   "outputs": [],
   "source": [
    "plt.plot(unique100, counts100 , 'r-')\n",
    "plt.title('Plot for tend + 100')\n",
    "plt.xlabel('Volume of Cell')\n",
    "plt.ylabel('Number of Occurrences')"
   ]
  },
  {
   "cell_type": "code",
   "execution_count": null,
   "metadata": {
    "collapsed": false
   },
   "outputs": [],
   "source": [
    "vol=[]\n",
    "for i in datatend200:\n",
    "    vol.append(i[0])\n",
    "x = np.array(vol)\n",
    "unique200, counts200 = np.unique(x, return_counts=True)\n",
    "print unique200"
   ]
  },
  {
   "cell_type": "code",
   "execution_count": null,
   "metadata": {
    "collapsed": false
   },
   "outputs": [],
   "source": [
    "plt.plot(unique200, counts200 , 'r-')\n",
    "plt.title('Plot for tend + 200')\n",
    "plt.xlabel('Volume of Cell')\n",
    "plt.ylabel('Number of Occurrences')"
   ]
  },
  {
   "cell_type": "code",
   "execution_count": null,
   "metadata": {
    "collapsed": false
   },
   "outputs": [],
   "source": [
    "plt.plot(unique, counts , label = 'tend' , linewidth = 2)\n",
    "plt.plot(unique100, counts100 , label = 'tend + 100' , linewidth = 2)\n",
    "plt.plot(unique200, counts200 , label = 'tend + 200' , linewidth = 2)\n",
    "plt.title('Number of cells vs volume, tend = point of saturation')\n",
    "plt.xlabel('Volume of Cell')\n",
    "plt.ylabel('Number of Occurrences')\n",
    "plt.legend()\n",
    "plt.savefig(\"Volume distribution Circle R2.png\")"
   ]
  }
 ],
 "metadata": {
  "kernelspec": {
   "display_name": "Python 2",
   "language": "python",
   "name": "python2"
  },
  "language_info": {
   "codemirror_mode": {
    "name": "ipython",
    "version": 2
   },
   "file_extension": ".py",
   "mimetype": "text/x-python",
   "name": "python",
   "nbconvert_exporter": "python",
   "pygments_lexer": "ipython2",
   "version": "2.7.11"
  }
 },
 "nbformat": 4,
 "nbformat_minor": 0
}
