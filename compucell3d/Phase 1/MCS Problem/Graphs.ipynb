{
 "cells": [
  {
   "cell_type": "code",
   "execution_count": 1,
   "metadata": {
    "collapsed": false
   },
   "outputs": [],
   "source": [
    "import csv\n",
    "f1 = open (\"C:\\Users\\Anmol Mishra\\CC3DWorkspace\\steps 500\\Demo.cc3d-2016-04-29-13-28-22-092000\\data.csv\" , \"rb\")\n",
    "data1 = csv.reader(f1)\n",
    "f2 = open (\"C:\\Users\\Anmol Mishra\\CC3DWorkspace\\steps 500\\Demo.cc3d-2016-04-29-13-29-28-272000\\data.csv\" , \"rb\")\n",
    "data2 = csv.reader(f2)\n",
    "f3 = open (\"C:\\Users\\Anmol Mishra\\CC3DWorkspace\\steps 500\\Demo.cc3d-2016-04-29-13-30-43-150000\\data.csv\" , \"rb\")\n",
    "data3 = csv.reader(f3)\n",
    "f4 = open (\"C:\\Users\\Anmol Mishra\\CC3DWorkspace\\steps 500\\Demo.cc3d-2016-04-29-13-32-55-878000\\data.csv\" , \"rb\")\n",
    "data4 = csv.reader(f4)\n",
    "f5 = open (\"C:\\Users\\Anmol Mishra\\CC3DWorkspace\\steps 500\\Demo.cc3d-2016-04-29-13-34-31-375000\\data.csv\" , \"rb\")\n",
    "data5 = csv.reader(f5)\n",
    "f6 = open (\"C:\\Users\\Anmol Mishra\\CC3DWorkspace\\steps 500\\Demo.cc3d-2016-04-29-13-35-51-807000\\data.csv\" , \"rb\")\n",
    "data6 = csv.reader(f6)\n",
    "f7 = open (\"C:\\Users\\Anmol Mishra\\CC3DWorkspace\\steps 500\\Demo.cc3d-2016-04-29-13-37-00-748000\\data.csv\" , \"rb\")\n",
    "data7 = csv.reader(f7)\n",
    "f8 = open (\"C:\\Users\\Anmol Mishra\\CC3DWorkspace\\steps 500\\Demo.cc3d-2016-04-29-13-38-04-558000\\data.csv\" , \"rb\")\n",
    "data8 = csv.reader(f8)\n",
    "f9 = open (\"C:\\Users\\Anmol Mishra\\CC3DWorkspace\\steps 500\\Demo.cc3d-2016-04-29-13-40-01-423000\\data.csv\" , \"rb\")\n",
    "data9 = csv.reader(f9)\n",
    "f10 = open (\"C:\\Users\\Anmol Mishra\\CC3DWorkspace\\steps 500\\Demo.cc3d-2016-04-29-13-40-57-443000\\data.csv\" , \"rb\")\n",
    "data10 = csv.reader(f10)"
   ]
  },
  {
   "cell_type": "code",
   "execution_count": 2,
   "metadata": {
    "collapsed": false
   },
   "outputs": [],
   "source": [
    "data500 = [data1, data2, data3, data4, data5, data6, data7, data8, data9, data10]\n",
    "newdata1 = []\n",
    "newdata2 = []\n",
    "newdata3 = []\n",
    "newdata4 = []\n",
    "newdata5 =[]\n",
    "newdata6 = []\n",
    "newdata7 = []\n",
    "newdata8 = []\n",
    "newdata9 = []\n",
    "newdata10 = []\n",
    "newdata500 = [newdata1, newdata2, newdata3, newdata4, newdata5, newdata6, newdata7, newdata8, newdata9, newdata10]"
   ]
  },
  {
   "cell_type": "code",
   "execution_count": 3,
   "metadata": {
    "collapsed": false
   },
   "outputs": [],
   "source": [
    "for i in range(10):\n",
    "    for line in data500[i]:\n",
    "        newdata500[i].append(line)"
   ]
  },
  {
   "cell_type": "code",
   "execution_count": 4,
   "metadata": {
    "collapsed": false
   },
   "outputs": [],
   "source": [
    "finalcount500 = []\n",
    "for i in range(0,10):\n",
    "    for line in newdata500[i]:\n",
    "        if (int(line[0]) == 499):\n",
    "            finalcount500.append(int(line[2]))"
   ]
  },
  {
   "cell_type": "code",
   "execution_count": 5,
   "metadata": {
    "collapsed": false
   },
   "outputs": [
    {
     "data": {
      "text/plain": [
       "3683"
      ]
     },
     "execution_count": 5,
     "metadata": {},
     "output_type": "execute_result"
    }
   ],
   "source": [
    "len(finalcount500)"
   ]
  },
  {
   "cell_type": "code",
   "execution_count": 6,
   "metadata": {
    "collapsed": true
   },
   "outputs": [],
   "source": [
    "%matplotlib inline\n",
    "from matplotlib import pyplot as plt"
   ]
  },
  {
   "cell_type": "code",
   "execution_count": 7,
   "metadata": {
    "collapsed": false
   },
   "outputs": [
    {
     "data": {
      "text/plain": [
       "(array([ 0.        ,  0.        ,  0.        ,  0.        ,  0.        ,\n",
       "         0.00135759,  0.00434428,  0.01004616,  0.0168341 ,  0.01764866,\n",
       "         0.02470812,  0.03339669,  0.03475428,  0.03339669,  0.03801249,\n",
       "         0.03095303,  0.03095303,  0.0320391 ,  0.02932392,  0.03095303,\n",
       "         0.02850937,  0.03448276,  0.04778713,  0.04995927,  0.04805865,\n",
       "         0.0442574 ,  0.05213141,  0.04208526,  0.03393972,  0.02715178,\n",
       "         0.02769481,  0.02389357,  0.02172142,  0.01873473,  0.02253598,\n",
       "         0.02036383,  0.02063535,  0.01656258,  0.01466196,  0.01439044,\n",
       "         0.01167526,  0.00705946,  0.00162911,  0.00054304,  0.00081455,\n",
       "         0.        ,  0.        ,  0.        ,  0.        ,  0.        ]),\n",
       " array([ 10.,  11.,  12.,  13.,  14.,  15.,  16.,  17.,  18.,  19.,  20.,\n",
       "         21.,  22.,  23.,  24.,  25.,  26.,  27.,  28.,  29.,  30.,  31.,\n",
       "         32.,  33.,  34.,  35.,  36.,  37.,  38.,  39.,  40.,  41.,  42.,\n",
       "         43.,  44.,  45.,  46.,  47.,  48.,  49.,  50.,  51.,  52.,  53.,\n",
       "         54.,  55.,  56.,  57.,  58.,  59.,  60.]),\n",
       " <a list of 50 Patch objects>)"
      ]
     },
     "execution_count": 7,
     "metadata": {},
     "output_type": "execute_result"
    },
    {
     "data": {
      "image/png": "[encoded data removed]",
      "text/plain": [
       "<matplotlib.figure.Figure at 0xc2aea20>"
      ]
     },
     "metadata": {},
     "output_type": "display_data"
    }
   ],
   "source": [
    "plt.hist(finalcount500, bins = 50 , normed = True , range = (10,60))"
   ]
  },
  {
   "cell_type": "code",
   "execution_count": 8,
   "metadata": {
    "collapsed": false
   },
   "outputs": [
    {
     "name": "stdout",
     "output_type": "stream",
     "text": [
      "[15 16 17 18 19 20 21 22 23 24 25 26 27 28 29 30 31 32 33 34 35 36 37 38 39\n",
      " 40 41 42 43 44 45 46 47 48 49 50 51 52 53 54]\n"
     ]
    }
   ],
   "source": [
    "import numpy as np\n",
    "x = np.array(finalcount500)\n",
    "unique500, counts500 = np.unique(x, return_counts=True)\n",
    "print unique500"
   ]
  },
  {
   "cell_type": "code",
   "execution_count": 9,
   "metadata": {
    "collapsed": false
   },
   "outputs": [
    {
     "data": {
      "image/png": "[encoded data removed]",
      "text/plain": [
       "<matplotlib.figure.Figure at 0xcf13470>"
      ]
     },
     "metadata": {},
     "output_type": "display_data"
    }
   ],
   "source": [
    "plt.plot(unique500, counts500/10 , 'r-')\n",
    "plt.title('Plot for 500 MCS ')\n",
    "plt.xlabel('Volume of Cell')\n",
    "plt.ylabel('Number of Occurrences')\n",
    "plt.savefig(\"plot500.png\")"
   ]
  },
  {
   "cell_type": "code",
   "execution_count": 10,
   "metadata": {
    "collapsed": true
   },
   "outputs": [],
   "source": [
    "import csv\n",
    "f1 = open (\"C:\\Users\\Anmol Mishra\\CC3DWorkspace\\steps 1000\\Demo.cc3d-2016-04-29-15-30-11-170000\\data.csv\" , \"rb\")\n",
    "data1 = csv.reader(f1)\n",
    "f2 = open (\"C:\\Users\\Anmol Mishra\\CC3DWorkspace\\steps 1000\\Demo.cc3d-2016-04-29-15-31-55-478000\\data.csv\" , \"rb\")\n",
    "data2 = csv.reader(f2)\n",
    "f3 = open (\"C:\\Users\\Anmol Mishra\\CC3DWorkspace\\steps 1000\\Demo.cc3d-2016-04-29-15-33-46-251000\\data.csv\" , \"rb\")\n",
    "data3 = csv.reader(f3)\n",
    "f4 = open (\"C:\\Users\\Anmol Mishra\\CC3DWorkspace\\steps 1000\\Demo.cc3d-2016-04-29-15-35-23-845000\\data.csv\" , \"rb\")\n",
    "data4 = csv.reader(f4)\n",
    "f5 = open (\"C:\\Users\\Anmol Mishra\\CC3DWorkspace\\steps 1000\\Demo.cc3d-2016-04-29-15-37-28-557000\\data.csv\" , \"rb\")\n",
    "data5 = csv.reader(f5)\n",
    "f6 = open (\"C:\\Users\\Anmol Mishra\\CC3DWorkspace\\steps 1000\\Demo.cc3d-2016-04-29-15-39-33-209000\\data.csv\" , \"rb\")\n",
    "data6 = csv.reader(f6)\n",
    "f7 = open (\"C:\\Users\\Anmol Mishra\\CC3DWorkspace\\steps 1000\\Demo.cc3d-2016-04-29-15-41-40-405000\\data.csv\" , \"rb\")\n",
    "data7 = csv.reader(f7)\n",
    "f8 = open (\"C:\\Users\\Anmol Mishra\\CC3DWorkspace\\steps 1000\\Demo.cc3d-2016-04-29-15-52-39-043000\\data.csv\" , \"rb\")\n",
    "data8 = csv.reader(f8)\n",
    "f9 = open (\"C:\\Users\\Anmol Mishra\\CC3DWorkspace\\steps 1000\\Demo.cc3d-2016-04-29-15-58-44-211000\\data.csv\" , \"rb\")\n",
    "data9 = csv.reader(f9)\n",
    "f10 = open (\"C:\\Users\\Anmol Mishra\\CC3DWorkspace\\steps 1000\\Demo.cc3d-2016-04-29-16-00-43-085000\\data.csv\" , \"rb\")\n",
    "data10 = csv.reader(f10)"
   ]
  },
  {
   "cell_type": "code",
   "execution_count": 11,
   "metadata": {
    "collapsed": true
   },
   "outputs": [],
   "source": [
    "data1000 = [data1, data2, data3, data4, data5, data6, data7, data8, data9, data10]\n",
    "newdata1000 = [newdata1, newdata2, newdata3, newdata4, newdata5, newdata6, newdata7, newdata8, newdata9, newdata10]"
   ]
  },
  {
   "cell_type": "code",
   "execution_count": 12,
   "metadata": {
    "collapsed": false
   },
   "outputs": [],
   "source": [
    "for i in range(10):\n",
    "    newdata1000[i]= []\n",
    "    for line in data1000[i]:\n",
    "        newdata1000[i].append(line)"
   ]
  },
  {
   "cell_type": "code",
   "execution_count": 13,
   "metadata": {
    "collapsed": true
   },
   "outputs": [],
   "source": [
    "finalcount1000 = []\n",
    "for i in range(0,10):\n",
    "    for line in newdata1000[i]:\n",
    "            finalcount1000.append(int(line[1]))"
   ]
  },
  {
   "cell_type": "code",
   "execution_count": 14,
   "metadata": {
    "collapsed": false
   },
   "outputs": [
    {
     "data": {
      "text/plain": [
       "19765"
      ]
     },
     "execution_count": 14,
     "metadata": {},
     "output_type": "execute_result"
    }
   ],
   "source": [
    "len(finalcount1000)"
   ]
  },
  {
   "cell_type": "code",
   "execution_count": 15,
   "metadata": {
    "collapsed": false
   },
   "outputs": [
    {
     "data": {
      "text/plain": [
       "(array([ 0.        ,  0.0036428 ,  0.00465469,  0.00672907,  0.0092082 ,\n",
       "         0.01416646,  0.01816342,  0.02114849,  0.02949658,  0.0320769 ,\n",
       "         0.03268404,  0.03652922,  0.03890716,  0.03824943,  0.03895775,\n",
       "         0.03976727,  0.03971667,  0.0394637 ,  0.03622565,  0.03794586,\n",
       "         0.03566911,  0.0348596 ,  0.03384771,  0.03141918,  0.03222869,\n",
       "         0.02873767,  0.0284341 ,  0.02413357,  0.02367822,  0.0229193 ,\n",
       "         0.01917531,  0.01973185,  0.02023779,  0.01522894,  0.01406527,\n",
       "         0.01436883,  0.01259803,  0.01016949,  0.0101189 ,  0.00966355,\n",
       "         0.00789274,  0.00571718,  0.00561599,  0.0055148 ,  0.00424994,\n",
       "         0.0036934 ,  0.00308626,  0.00207437,  0.00146724,  0.00111308,\n",
       "         0.00055654,  0.        ,  0.        ,  0.        ,  0.        ,\n",
       "         0.        ,  0.        ,  0.        ,  0.        ,  0.        ]),\n",
       " array([  0.,   1.,   2.,   3.,   4.,   5.,   6.,   7.,   8.,   9.,  10.,\n",
       "         11.,  12.,  13.,  14.,  15.,  16.,  17.,  18.,  19.,  20.,  21.,\n",
       "         22.,  23.,  24.,  25.,  26.,  27.,  28.,  29.,  30.,  31.,  32.,\n",
       "         33.,  34.,  35.,  36.,  37.,  38.,  39.,  40.,  41.,  42.,  43.,\n",
       "         44.,  45.,  46.,  47.,  48.,  49.,  50.,  51.,  52.,  53.,  54.,\n",
       "         55.,  56.,  57.,  58.,  59.,  60.]),\n",
       " <a list of 60 Patch objects>)"
      ]
     },
     "execution_count": 15,
     "metadata": {},
     "output_type": "execute_result"
    },
    {
     "data": {
      "image/png": "[encoded data removed]",
      "text/plain": [
       "<matplotlib.figure.Figure at 0xd1ce6d8>"
      ]
     },
     "metadata": {},
     "output_type": "display_data"
    }
   ],
   "source": [
    "plt.hist(finalcount1000, bins = 60 , normed = True , range = (0,60))"
   ]
  },
  {
   "cell_type": "code",
   "execution_count": 16,
   "metadata": {
    "collapsed": false
   },
   "outputs": [
    {
     "name": "stdout",
     "output_type": "stream",
     "text": [
      "[ 1  2  3  4  5  6  7  8  9 10 11 12 13 14 15 16 17 18 19 20 21 22 23 24 25\n",
      " 26 27 28 29 30 31 32 33 34 35 36 37 38 39 40 41 42 43 44 45 46 47 48 49 50]\n"
     ]
    }
   ],
   "source": [
    "import numpy as np\n",
    "x = np.array(finalcount1000)\n",
    "unique1000, counts1000 = np.unique(x, return_counts=True)\n",
    "print unique1000"
   ]
  },
  {
   "cell_type": "code",
   "execution_count": 17,
   "metadata": {
    "collapsed": false
   },
   "outputs": [
    {
     "data": {
      "image/png": "[encoded data removed]",
      "text/plain": [
       "<matplotlib.figure.Figure at 0xcf4dcc0>"
      ]
     },
     "metadata": {},
     "output_type": "display_data"
    }
   ],
   "source": [
    "plt.plot(unique1000, counts1000/10 , 'r-')\n",
    "plt.title('Plot for 1000 MCS ')\n",
    "plt.xlabel('Volume of Cell')\n",
    "plt.ylabel('Number of Occurrences')\n",
    "plt.savefig(\"plot1000.png\")"
   ]
  },
  {
   "cell_type": "code",
   "execution_count": 18,
   "metadata": {
    "collapsed": true
   },
   "outputs": [],
   "source": [
    "import csv\n",
    "f1 = open (\"C:\\Users\\Anmol Mishra\\CC3DWorkspace\\steps 700\\Demo.cc3d-2016-04-29-13-42-46-609000\\data.csv\" , \"rb\")\n",
    "data1 = csv.reader(f1)\n",
    "f2 = open (\"C:\\Users\\Anmol Mishra\\CC3DWorkspace\\steps 700\\Demo.cc3d-2016-04-29-13-44-09-643000\\data.csv\" , \"rb\")\n",
    "data2 = csv.reader(f2)\n",
    "f3 = open (\"C:\\Users\\Anmol Mishra\\CC3DWorkspace\\steps 700\\Demo.cc3d-2016-04-29-13-45-29-493000\\data.csv\" , \"rb\")\n",
    "data3 = csv.reader(f3)\n",
    "f4 = open (\"C:\\Users\\Anmol Mishra\\CC3DWorkspace\\steps 700\\Demo.cc3d-2016-04-29-13-47-12-204000\\data.csv\" , \"rb\")\n",
    "data4 = csv.reader(f4)\n",
    "f5 = open (\"C:\\Users\\Anmol Mishra\\CC3DWorkspace\\steps 700\\Demo.cc3d-2016-04-29-13-48-51-631000\\data.csv\" , \"rb\")\n",
    "data5 = csv.reader(f5)\n",
    "f6 = open (\"C:\\Users\\Anmol Mishra\\CC3DWorkspace\\steps 700\\Demo.cc3d-2016-04-29-13-50-37-258000\\data.csv\" , \"rb\")\n",
    "data6 = csv.reader(f6)\n",
    "f7 = open (\"C:\\Users\\Anmol Mishra\\CC3DWorkspace\\steps 700\\Demo.cc3d-2016-04-29-13-52-08-658000\\data.csv\" , \"rb\")\n",
    "data7 = csv.reader(f7)\n",
    "f8 = open (\"C:\\Users\\Anmol Mishra\\CC3DWorkspace\\steps 700\\Demo.cc3d-2016-04-29-13-53-29-646000\\data.csv\" , \"rb\")\n",
    "data8 = csv.reader(f8)\n",
    "f9 = open (\"C:\\Users\\Anmol Mishra\\CC3DWorkspace\\steps 700\\Demo.cc3d-2016-04-29-13-54-59-560000\\data.csv\" , \"rb\")\n",
    "data9 = csv.reader(f9)\n",
    "f10 = open (\"C:\\Users\\Anmol Mishra\\CC3DWorkspace\\steps 700\\Demo.cc3d-2016-04-29-13-56-30-143000\\data.csv\" , \"rb\")\n",
    "data10 = csv.reader(f10)"
   ]
  },
  {
   "cell_type": "code",
   "execution_count": 19,
   "metadata": {
    "collapsed": true
   },
   "outputs": [],
   "source": [
    "data700 = [data1, data2, data3, data4, data5, data6, data7, data8, data9, data10]\n",
    "newdata700 = [newdata1, newdata2, newdata3, newdata4, newdata5, newdata6, newdata7, newdata8, newdata9, newdata10]"
   ]
  },
  {
   "cell_type": "code",
   "execution_count": 20,
   "metadata": {
    "collapsed": true
   },
   "outputs": [],
   "source": [
    "for i in range(10):\n",
    "    newdata700[i] = []\n",
    "    for line in data700[i]:\n",
    "        newdata700[i].append(line)"
   ]
  },
  {
   "cell_type": "code",
   "execution_count": 21,
   "metadata": {
    "collapsed": true
   },
   "outputs": [],
   "source": [
    "finalcount700 = []\n",
    "for i in range(0,10):\n",
    "    for line in newdata700[i]:\n",
    "        if (int(line[0]) == 699):\n",
    "            finalcount700.append(int(line[2]))"
   ]
  },
  {
   "cell_type": "code",
   "execution_count": 22,
   "metadata": {
    "collapsed": false
   },
   "outputs": [
    {
     "data": {
      "text/plain": [
       "15277"
      ]
     },
     "execution_count": 22,
     "metadata": {},
     "output_type": "execute_result"
    }
   ],
   "source": [
    "len(finalcount700)"
   ]
  },
  {
   "cell_type": "code",
   "execution_count": 23,
   "metadata": {
    "collapsed": false
   },
   "outputs": [
    {
     "data": {
      "text/plain": [
       "(array([  0.00000000e+00,   1.17824180e-03,   2.09465209e-03,\n",
       "          2.81468875e-03,   4.58205145e-03,   5.76029325e-03,\n",
       "          8.57498200e-03,   8.24769261e-03,   1.34843228e-02,\n",
       "          1.46625646e-02,   1.49243962e-02,   1.95719055e-02,\n",
       "          1.95719055e-02,   2.14047261e-02,   2.29757151e-02,\n",
       "          2.75577666e-02,   3.06342868e-02,   3.43653859e-02,\n",
       "          3.60672907e-02,   3.65254958e-02,   3.47581331e-02,\n",
       "          3.22707338e-02,   2.97833344e-02,   3.10270341e-02,\n",
       "          2.99797081e-02,   2.82778032e-02,   2.59213196e-02,\n",
       "          2.69031878e-02,   2.81468875e-02,   2.97178765e-02,\n",
       "          2.84741769e-02,   2.65104405e-02,   2.70341036e-02,\n",
       "          2.60522354e-02,   2.40884991e-02,   2.36957518e-02,\n",
       "          2.30411730e-02,   2.48739936e-02,   2.04228579e-02,\n",
       "          2.10119788e-02,   1.93100740e-02,   1.68881325e-02,\n",
       "          1.81972900e-02,   1.50553119e-02,   1.66263010e-02,\n",
       "          1.29606598e-02,   1.09969235e-02,   7.98586110e-03,\n",
       "          6.21849840e-03,   4.05838843e-03,   2.42194148e-03,\n",
       "          1.11278392e-03,   6.54578779e-04,   3.27289389e-04,\n",
       "          6.54578779e-05,   0.00000000e+00,   6.54578779e-05,\n",
       "          0.00000000e+00,   0.00000000e+00,   6.54578779e-05]),\n",
       " array([  0.,   1.,   2.,   3.,   4.,   5.,   6.,   7.,   8.,   9.,  10.,\n",
       "         11.,  12.,  13.,  14.,  15.,  16.,  17.,  18.,  19.,  20.,  21.,\n",
       "         22.,  23.,  24.,  25.,  26.,  27.,  28.,  29.,  30.,  31.,  32.,\n",
       "         33.,  34.,  35.,  36.,  37.,  38.,  39.,  40.,  41.,  42.,  43.,\n",
       "         44.,  45.,  46.,  47.,  48.,  49.,  50.,  51.,  52.,  53.,  54.,\n",
       "         55.,  56.,  57.,  58.,  59.,  60.]),\n",
       " <a list of 60 Patch objects>)"
      ]
     },
     "execution_count": 23,
     "metadata": {},
     "output_type": "execute_result"
    },
    {
     "data": {
      "image/png": "[encoded data removed]",
      "text/plain": [
       "<matplotlib.figure.Figure at 0xcf6c748>"
      ]
     },
     "metadata": {},
     "output_type": "display_data"
    }
   ],
   "source": [
    "plt.hist(finalcount700, bins = 60 , normed = True , range = (0,60))"
   ]
  },
  {
   "cell_type": "code",
   "execution_count": 24,
   "metadata": {
    "collapsed": false
   },
   "outputs": [
    {
     "name": "stdout",
     "output_type": "stream",
     "text": [
      "[ 1  2  3  4  5  6  7  8  9 10 11 12 13 14 15 16 17 18 19 20 21 22 23 24 25\n",
      " 26 27 28 29 30 31 32 33 34 35 36 37 38 39 40 41 42 43 44 45 46 47 48 49 50\n",
      " 51 52 53 54 56 60]\n"
     ]
    }
   ],
   "source": [
    "import numpy as np\n",
    "x = np.array(finalcount700)\n",
    "unique700, counts700 = np.unique(x, return_counts=True)\n",
    "print unique700"
   ]
  },
  {
   "cell_type": "code",
   "execution_count": 26,
   "metadata": {
    "collapsed": false
   },
   "outputs": [
    {
     "data": {
      "image/png": "[encoded data removed]",
      "text/plain": [
       "<matplotlib.figure.Figure at 0x32edd160>"
      ]
     },
     "metadata": {},
     "output_type": "display_data"
    }
   ],
   "source": [
    "plt.plot(unique500, counts500/10)\n",
    "plt.plot(unique700, counts700/10)\n",
    "plt.plot(unique1000, counts1000/10)\n",
    "plt.title('Plot for 700 MCS ')\n",
    "plt.xlabel('Volume of Cell')\n",
    "plt.ylabel('Number of Occurrences')\n",
    "plt.savefig(\"plot700.png\")"
   ]
  },
  {
   "cell_type": "code",
   "execution_count": null,
   "metadata": {
    "collapsed": true
   },
   "outputs": [],
   "source": []
  }
 ],
 "metadata": {
  "kernelspec": {
   "display_name": "Python 2",
   "language": "python",
   "name": "python2"
  },
  "language_info": {
   "codemirror_mode": {
    "name": "ipython",
    "version": 2
   },
   "file_extension": ".py",
   "mimetype": "text/x-python",
   "name": "python",
   "nbconvert_exporter": "python",
   "pygments_lexer": "ipython2",
   "version": "2.7.11"
  }
 },
 "nbformat": 4,
 "nbformat_minor": 0
}
