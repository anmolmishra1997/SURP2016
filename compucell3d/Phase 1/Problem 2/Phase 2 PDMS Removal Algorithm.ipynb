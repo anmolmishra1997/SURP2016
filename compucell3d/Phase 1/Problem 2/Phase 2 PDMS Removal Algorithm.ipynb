{
 "cells": [
  {
   "cell_type": "code",
   "execution_count": 1,
   "metadata": {
    "collapsed": true
   },
   "outputs": [],
   "source": [
    "import csv\n",
    "f1 = open (\"C:\\Users\\Anmol Mishra\\CC3DWorkspace\\Demo_cc3d_05_21_2016_17_03_11\\data.csv\" , \"rb\")\n",
    "data1 = csv.reader(f1)\n",
    "f2 = open (\"C:\\Users\\Anmol Mishra\\CC3DWorkspace\\Demo_cc3d_05_21_2016_17_05_08\\data.csv\" , \"rb\")\n",
    "data2 = csv.reader(f2)\n",
    "f3 = open (\"C:\\Users\\Anmol Mishra\\CC3DWorkspace\\Demo_cc3d_05_21_2016_17_06_45\\data.csv\" , \"rb\")\n",
    "data3 = csv.reader(f3)"
   ]
  },
  {
   "cell_type": "code",
   "execution_count": 2,
   "metadata": {
    "collapsed": true
   },
   "outputs": [],
   "source": [
    "%matplotlib inline\n",
    "from matplotlib import pyplot as plt\n",
    "import numpy as np"
   ]
  },
  {
   "cell_type": "code",
   "execution_count": null,
   "metadata": {
    "collapsed": true
   },
   "outputs": [],
   "source": [
    "newdata1 = []\n",
    "for line in data1:\n",
    "        newdata1.append(line)\n",
    "finalVolume1 = int(newdata1[-1][3])\n",
    "newdata2 = []\n",
    "for line in data2:\n",
    "        newdata2.append(line)\n",
    "finalVolume2 = int(newdata2[-1][3])\n",
    "newdata3 = []\n",
    "for line in data3:\n",
    "        newdata3.append(line)\n",
    "finalVolume3 = int(newdata3[-1][3])"
   ]
  },
  {
   "cell_type": "code",
   "execution_count": null,
   "metadata": {
    "collapsed": true
   },
   "outputs": [],
   "source": [
    "tend1 = 687\n",
    "tend2 = 849\n",
    "tend3 = 596"
   ]
  },
  {
   "cell_type": "code",
   "execution_count": null,
   "metadata": {
    "collapsed": true
   },
   "outputs": [],
   "source": [
    "for i in range(len(newdata1)):\n",
    "    if (int(i[3])>finalVolume1 and int(i[0]) < tend1 + 100):\n",
    "        finalVolume1 = int(i[3])\n",
    "for i in range(len(newdata2)):\n",
    "    if (int(i[3])>finalVolume2 and int(i[0]) < tend2 + 100):\n",
    "        finalVolume2 = int(i[3])\n",
    "for i in range(len(newdata3)):\n",
    "    if (int(i[3])>finalVolume3 and int(i[0]) < tend3 + 100):\n",
    "        finalVolume3 = int(i[3])"
   ]
  },
  {
   "cell_type": "code",
   "execution_count": null,
   "metadata": {
    "collapsed": false
   },
   "outputs": [],
   "source": [
    "freespace1 = []\n",
    "for i in range(len(newdata1)):\n",
    "    if (int(newdata1[i][0]) != int(newdata1[i-1][0])):\n",
    "        freespace1.append(40000 - int(newdata1[i][3]))\n",
    "freespace2 = []\n",
    "for i in range(len(newdata2)):\n",
    "    if (int(newdata2[i][0]) != int(newdata2[i-1][0])):\n",
    "        freespace2.append(40000 - int(newdata2[i][3]))\n",
    "freespace3 = []\n",
    "for i in range(len(newdata3)):\n",
    "    if (int(newdata3[i][0]) != int(newdata3[i-1][0])):\n",
    "        freespace3.append(40000 - int(newdata3[i][3]))"
   ]
  },
  {
   "cell_type": "code",
   "execution_count": null,
   "metadata": {
    "collapsed": false
   },
   "outputs": [],
   "source": [
    "for i in range(tend1 + 100):\n",
    "    freespace1[i] = freespace1[i] + finalVolume1 - 40000\n",
    "for i in range(tend2 + 100):\n",
    "    freespace2[i] = freespace2[i] + finalVolume2 - 40000\n",
    "for i in range(tend3 + 100):\n",
    "    freespace3[i] = freespace3[i] + finalVolume3 - 40000"
   ]
  },
  {
   "cell_type": "code",
   "execution_count": null,
   "metadata": {
    "collapsed": false
   },
   "outputs": [],
   "source": [
    "plt.plot(freespace1 , linewidth = 2 , label = \"R\")\n",
    "plt.plot(freespace2 , linewidth = 2 , label = \"2R\")\n",
    "plt.plot(freespace3 , linewidth = 2 , label = \"R/2\")\n",
    "plt.title(\"Free space vs time\")\n",
    "plt.xlabel(\"MCS\")\n",
    "plt.ylabel(\"Free volume\")\n",
    "plt.legend()\n",
    "plt.savefig(\"Free space Blank\")"
   ]
  },
  {
   "cell_type": "code",
   "execution_count": null,
   "metadata": {
    "collapsed": false
   },
   "outputs": [],
   "source": [
    "noofcells1 = []\n",
    "count =0\n",
    "for i in range(len(newdata1)):\n",
    "    if (int(newdata1[i][0]) == int(newdata1[i-1][0])):\n",
    "        count = count+1\n",
    "    else :\n",
    "        noofcells1.append(count+1)\n",
    "        count=0\n",
    "noofcells2 = []\n",
    "count =0\n",
    "for i in range(len(newdata2)):\n",
    "    if (int(newdata2[i][0]) == int(newdata2[i-1][0])):\n",
    "        count = count+1\n",
    "    else :\n",
    "        noofcells2.append(count+1)\n",
    "        count=0\n",
    "noofcells3 = []\n",
    "count =0\n",
    "for i in range(len(newdata3)):\n",
    "    if (int(newdata3[i][0]) == int(newdata3[i-1][0])):\n",
    "        count = count+1\n",
    "    else :\n",
    "        noofcells3.append(count+1)\n",
    "        count=0"
   ]
  },
  {
   "cell_type": "code",
   "execution_count": null,
   "metadata": {
    "collapsed": false
   },
   "outputs": [],
   "source": [
    "plt.plot( noofcells1, linewidth = 2 , label = \"R\")\n",
    "plt.plot( [tend1], noofcells1[tend1] , 'ro' , label = \"T_end\")\n",
    "plt.plot( [tend1 + 100], noofcells1[tend1 + 100] , 'go', label = \"T_end + 100\")\n",
    "plt.title(\"Number of cells vs time\")\n",
    "plt.xlabel(\"MCS\")\n",
    "plt.ylabel(\"Number of cells\")\n",
    "plt.legend( loc = 2)\n",
    "plt.savefig(\"Number of Cells Circle\")"
   ]
  },
  {
   "cell_type": "code",
   "execution_count": null,
   "metadata": {
    "collapsed": false
   },
   "outputs": [],
   "source": [
    "plt.plot( noofcells2, linewidth = 2 , label = \"2R\")\n",
    "plt.plot( [tend2], noofcells2[tend2] , 'ro' , label = \"T_end\")\n",
    "plt.plot( [tend2 + 100], noofcells2[tend2 + 100] , 'go', label = \"T_end + 100\")\n",
    "plt.title(\"Number of cells vs time\")\n",
    "plt.xlabel(\"MCS\")\n",
    "plt.ylabel(\"Number of cells\")\n",
    "plt.legend( loc = 2)\n",
    "plt.savefig(\"Number of Cells Circle 2R\")"
   ]
  },
  {
   "cell_type": "code",
   "execution_count": null,
   "metadata": {
    "collapsed": false
   },
   "outputs": [],
   "source": [
    "plt.plot( noofcells3, linewidth = 2 , label = \"R/2\")\n",
    "plt.plot( [tend3], noofcells3[tend3] , 'ro' , label = \"T_end\")\n",
    "plt.plot( [tend3 + 100], noofcells3[tend3 + 100] , 'go', label = \"T_end + 100\")\n",
    "plt.title(\"Number of cells vs time\")\n",
    "plt.xlabel(\"MCS\")\n",
    "plt.ylabel(\"Number of cells\")\n",
    "plt.legend(loc = 2)\n",
    "plt.savefig(\"Number of Cells Circle R2\")"
   ]
  },
  {
   "cell_type": "code",
   "execution_count": null,
   "metadata": {
    "collapsed": true
   },
   "outputs": [],
   "source": [
    "volume1 = []\n",
    "varvolume1 = []\n",
    "for i in range(len(newdata1)):\n",
    "    if (int(newdata1[i][0]) == int(newdata1[i-1][0]) and i != 0):\n",
    "        volume1.append(int(newdata1[i-1][2]))\n",
    "    else :\n",
    "        volume1.append(int(newdata1[i-1][2]))\n",
    "        npvolume1 = np.array(volume1)\n",
    "        varvolume1.append(npvolume1.std())\n",
    "        volume1 = []\n",
    "npvolume1 = np.array(volume1)\n",
    "varvolume1.append(npvolume1.std())\n",
    "del varvolume1[0]\n",
    "volume2 = []\n",
    "varvolume2 = []\n",
    "for i in range(len(newdata2)):\n",
    "    if (int(newdata2[i][0]) == int(newdata2[i-1][0]) and i != 0):\n",
    "        volume2.append(int(newdata2[i-1][2]))\n",
    "    else :\n",
    "        volume2.append(int(newdata2[i-1][2]))\n",
    "        npvolume2 = np.array(volume2)\n",
    "        varvolume2.append(npvolume2.std())\n",
    "        volume2 = []\n",
    "npvolume2 = np.array(volume2)\n",
    "varvolume2.append(npvolume2.std())\n",
    "del varvolume2[0]\n",
    "volume3 = []\n",
    "varvolume3 = []\n",
    "for i in range(len(newdata3)):\n",
    "    if (int(newdata3[i][0]) == int(newdata3[i-1][0]) and i != 0):\n",
    "        volume3.append(int(newdata3[i-1][2]))\n",
    "    else :\n",
    "        volume3.append(int(newdata3[i-1][2]))\n",
    "        npvolume3 = np.array(volume3)\n",
    "        varvolume3.append(npvolume3.std())\n",
    "        volume3 = []\n",
    "npvolume3 = np.array(volume3)\n",
    "varvolume3.append(npvolume3.std())\n",
    "del varvolume3[0]"
   ]
  },
  {
   "cell_type": "code",
   "execution_count": null,
   "metadata": {
    "collapsed": false
   },
   "outputs": [],
   "source": [
    "plt.plot(varvolume1, label = \"R\")\n",
    "plt.plot( [tend1], varvolume1[tend1] , 'ro' , label = \"T_end\")\n",
    "plt.plot( [tend1 + 100], varvolume1[tend1 + 100] , 'go', label = \"T_end + 100\")\n",
    "plt.title(\"Volume heterogeneity vs time\")\n",
    "plt.xlabel(\"MCS\")\n",
    "plt.ylabel(\"Volume heterogeneity\")\n",
    "plt.legend(loc = 4)\n",
    "plt.savefig(\"Volume Heterogeneity Circle\")"
   ]
  },
  {
   "cell_type": "code",
   "execution_count": null,
   "metadata": {
    "collapsed": false
   },
   "outputs": [],
   "source": [
    "plt.plot(varvolume2, label = \"2R\")\n",
    "plt.plot( [tend2], varvolume2[tend2] , 'ro' , label = \"T_end\")\n",
    "plt.plot( [tend2 + 100], varvolume2[tend2 + 100] , 'go', label = \"T_end + 100\")\n",
    "plt.title(\"Volume heterogeneity vs time\")\n",
    "plt.xlabel(\"MCS\")\n",
    "plt.ylabel(\"Volume heterogeneity\")\n",
    "plt.legend(loc = 4)\n",
    "plt.savefig(\"Volume Heterogeneity Circle 2R\")"
   ]
  },
  {
   "cell_type": "code",
   "execution_count": null,
   "metadata": {
    "collapsed": false
   },
   "outputs": [],
   "source": [
    "plt.plot(varvolume3, label = \"R/2\")\n",
    "plt.plot( [tend3], varvolume3[tend3],'ro' , label = \"T_end\")\n",
    "plt.plot( [tend3 + 100] ,varvolume3[tend3 + 100], 'go', label = \"T_end + 100\")\n",
    "plt.title(\"Volume heterogeneity vs time\")\n",
    "plt.xlabel(\"MCS\")\n",
    "plt.ylabel(\"Volume heterogeneity\")\n",
    "plt.legend(loc = 4)\n",
    "plt.savefig(\"Volume Heterogeneity Circle R2\")"
   ]
  },
  {
   "cell_type": "code",
   "execution_count": null,
   "metadata": {
    "collapsed": true
   },
   "outputs": [],
   "source": [
    "area1 = []\n",
    "vararea1 = []\n",
    "for i in range(len(newdata1)):\n",
    "    if (int(newdata1[i][0]) == int(newdata1[i-1][0]) and i != 0):\n",
    "        area1.append(float(newdata1[i-1][4]))\n",
    "    else :\n",
    "        area1.append(float(newdata1[i-1][4]))\n",
    "        nparea1 = np.array(area1)\n",
    "        vararea1.append(nparea1.std())\n",
    "        area1 = []\n",
    "nparea1 = np.array(area1)\n",
    "vararea1.append(nparea1.std())\n",
    "del vararea1[0]\n",
    "area2 = []\n",
    "vararea2 = []\n",
    "for i in range(len(newdata2)):\n",
    "    if (int(newdata2[i][0]) == int(newdata2[i-1][0]) and i != 0):\n",
    "        area2.append(float(newdata2[i-1][4]))\n",
    "    else :\n",
    "        area2.append(float(newdata2[i-1][4]))\n",
    "        nparea2 = np.array(area2)\n",
    "        vararea2.append(nparea2.std())\n",
    "        area2 = []\n",
    "nparea2 = np.array(area2)\n",
    "vararea2.append(nparea2.std())\n",
    "del vararea2[0]\n",
    "area3 = []\n",
    "vararea3 = []\n",
    "for i in range(len(newdata3)):\n",
    "    if (int(newdata3[i][0]) == int(newdata3[i-1][0]) and i != 0):\n",
    "        area3.append(float(newdata3[i-1][4]))\n",
    "    else :\n",
    "        area3.append(float(newdata3[i-1][4]))\n",
    "        nparea3 = np.array(area3)\n",
    "        vararea3.append(nparea3.std())\n",
    "        area3 = []\n",
    "nparea3 = np.array(area3)\n",
    "vararea3.append(nparea3.std())\n",
    "del vararea3[0]"
   ]
  },
  {
   "cell_type": "code",
   "execution_count": null,
   "metadata": {
    "collapsed": false
   },
   "outputs": [],
   "source": [
    "plt.plot(vararea1, label = \"R\")\n",
    "plt.plot( [tend1], vararea1[tend1] , 'ro' , label = \"T_end\")\n",
    "plt.plot( [tend1 + 100], vararea1[tend1 + 100] , 'go', label = \"T_end + 100\")\n",
    "plt.title(\"Surface heterogeneity vs time\")\n",
    "plt.xlabel(\"MCS\")\n",
    "plt.ylabel(\"Surface heterogeneity\")\n",
    "plt.legend(loc = 4)\n",
    "plt.savefig(\"Surface Heterogeneity Circle\")"
   ]
  },
  {
   "cell_type": "code",
   "execution_count": null,
   "metadata": {
    "collapsed": false
   },
   "outputs": [],
   "source": [
    "plt.plot(vararea2, label = \"2R\")\n",
    "plt.plot( [tend2], vararea2[tend2] , 'ro' , label = \"T_end\")\n",
    "plt.plot( [tend2 + 100], vararea2[tend2 + 100] , 'go', label = \"T_end + 100\")\n",
    "plt.title(\"Surface heterogeneity vs time\")\n",
    "plt.xlabel(\"MCS\")\n",
    "plt.ylabel(\"Surface heterogeneity\")\n",
    "plt.legend(loc = 4)\n",
    "plt.savefig(\"Surface Heterogeneity Circle 2R\")"
   ]
  },
  {
   "cell_type": "code",
   "execution_count": null,
   "metadata": {
    "collapsed": false
   },
   "outputs": [],
   "source": [
    "plt.plot(vararea3, label = \"R/2\")\n",
    "plt.plot(1200,7)\n",
    "plt.plot( [tend3], vararea3[tend3],'ro' , label = \"T_end\")\n",
    "plt.plot( [tend3 + 100] ,vararea3[tend3 + 100], 'go', label = \"T_end + 100\")\n",
    "plt.title(\"Surface heterogeneity vs time\")\n",
    "plt.xlabel(\"MCS\")\n",
    "plt.ylabel(\"Surface heterogeneity\")\n",
    "plt.legend(loc = 4)\n",
    "plt.savefig(\"Surface Heterogeneity Circle R2\")"
   ]
  },
  {
   "cell_type": "code",
   "execution_count": null,
   "metadata": {
    "collapsed": true
   },
   "outputs": [],
   "source": []
  }
 ],
 "metadata": {
  "kernelspec": {
   "display_name": "Python 2",
   "language": "python",
   "name": "python2"
  },
  "language_info": {
   "codemirror_mode": {
    "name": "ipython",
    "version": 2
   },
   "file_extension": ".py",
   "mimetype": "text/x-python",
   "name": "python",
   "nbconvert_exporter": "python",
   "pygments_lexer": "ipython2",
   "version": "2.7.11"
  }
 },
 "nbformat": 4,
 "nbformat_minor": 0
}
